{
 "cells": [
  {
   "cell_type": "markdown",
   "id": "HWXrzcz_y4W4",
   "metadata": {
    "id": "HWXrzcz_y4W4"
   },
   "source": [
    "# **ENGG680 - Introduction to Digital Engineering**\n",
    "## *Lab Assignment 1: Using Git and Python for Collaborative Coding in Google Colab*"
   ]
  },
  {
   "cell_type": "markdown",
   "id": "4fab98ae-2ed4-4d63-92bf-1de5dbb19934",
   "metadata": {
    "id": "4fab98ae-2ed4-4d63-92bf-1de5dbb19934"
   },
   "source": [
    "## Preliminary: Certificate of Work\n",
    "### (5 Marks)"
   ]
  },
  {
   "cell_type": "markdown",
   "id": "8f496d8e-869b-4d21-aa88-60d8ae45ba61",
   "metadata": {
    "id": "8f496d8e-869b-4d21-aa88-60d8ae45ba61"
   },
   "source": [
    "*We, the undersigned, certify that this is our own work, which has been done expressly for this course, either without the assistance of any other party or where appropriate we have acknowledged the work of others. Further, we have read and understood the section in the university calendar on plagiarism/cheating/other academic misconduct and we are aware of the implications thereof. We request that the total mark for this assignment be distributed as follows among group members:*"
   ]
  },
  {
   "cell_type": "markdown",
   "id": "5d9b6a22-cf19-4a2b-8b01-8a2a2a0f1f1f",
   "metadata": {
    "id": "5d9b6a22-cf19-4a2b-8b01-8a2a2a0f1f1f"
   },
   "source": [
    "|          | First Name | Last Name | Signature (Full Name, Date) | Hours | Contribution % |\n",
    "|----------|------------|-----------|-----------------------------|-------|----------------|\n",
    "| Member 1: | Eric | Akuamoah | Signature | 3.5 | 25% |\n",
    "| Member 2: | Hossam | Mohamed | Signature | 4 | 25% |\n",
    "| Member 3: | Rohit | Oad | Signature | 3.5 | 25% |\n",
    "| Member 4: | Isaac | Asenso-Acheampong | Signature | 3.5 | 25% |\n"
   ]
  },
  {
   "cell_type": "markdown",
   "id": "f1aa1475-009f-4697-b37a-e46286e2b792",
   "metadata": {
    "id": "f1aa1475-009f-4697-b37a-e46286e2b792"
   },
   "source": [
    "## Part 1: Printing to the Console\n",
    "### (6 Marks)"
   ]
  },
  {
   "cell_type": "code",
   "execution_count": 1,
   "id": "78e4aa0e-2a7d-44cc-9f8b-b3593c1e8176",
   "metadata": {
    "colab": {
     "base_uri": "https://localhost:8080/"
    },
    "executionInfo": {
     "elapsed": 163,
     "status": "ok",
     "timestamp": 1727427749170,
     "user": {
      "displayName": "Eric Akuamoah",
      "userId": "12035377069339015441"
     },
     "user_tz": 240
    },
    "id": "78e4aa0e-2a7d-44cc-9f8b-b3593c1e8176",
    "outputId": "4efdc23c-426a-451c-e5a5-c67aa50bc668"
   },
   "outputs": [
    {
     "name": "stdout",
     "output_type": "stream",
     "text": [
      "Hello, World! Welcome to Student Gradebook Management System\n"
     ]
    }
   ],
   "source": [
    "# In the space below, please print \"Hello, World! Welcome to the Student Gradebook Management System.\"\n",
    "# (1 mark)\n",
    "print(\"Hello, World! Welcome to Student Gradebook Management System\")"
   ]
  },
  {
   "cell_type": "code",
   "execution_count": 2,
   "id": "l3Venmnzsq2m",
   "metadata": {
    "colab": {
     "base_uri": "https://localhost:8080/"
    },
    "executionInfo": {
     "elapsed": 220,
     "status": "ok",
     "timestamp": 1726877768306,
     "user": {
      "displayName": "Hossam Mohamed",
      "userId": "18025882356236507753"
     },
     "user_tz": 360
    },
    "id": "l3Venmnzsq2m",
    "outputId": "8bc2487b-5145-4786-97d5-9e07779534f1"
   },
   "outputs": [
    {
     "name": "stdout",
     "output_type": "stream",
     "text": [
      "This is implemented by Group 2, for ENGG680 Fall of 2024\n"
     ]
    }
   ],
   "source": [
    "# Fill in your information using the defined variables below:\n",
    "# (1 mark)\n",
    "lab_group_number = 2\n",
    "intake_year = 2024\n",
    "intake_semester = \"Fall\" #\"Fall\" or \"Winter\"\n",
    "\n",
    "# Using f-strings and the variables above, print \"This is implemented by Group <lab_group_number>, for ENGG680 <intake_semester> of <intake_year>\"\n",
    "# (2 marks)\n",
    "print(f\"This is implemented by Group {lab_group_number}, for ENGG680 {intake_semester} of {intake_year}\")"
   ]
  },
  {
   "cell_type": "code",
   "execution_count": 3,
   "id": "mTPZ16XEtnHV",
   "metadata": {
    "colab": {
     "base_uri": "https://localhost:8080/"
    },
    "executionInfo": {
     "elapsed": 566,
     "status": "ok",
     "timestamp": 1727377343164,
     "user": {
      "displayName": "Rohit Oad",
      "userId": "17942282818526713738"
     },
     "user_tz": 360
    },
    "id": "mTPZ16XEtnHV",
    "outputId": "0343bc07-9cf7-4bb1-bef3-11df5dc6ddc0"
   },
   "outputs": [
    {
     "name": "stdout",
     "output_type": "stream",
     "text": [
      "The subjects involved in this grading system is English and Math.\n"
     ]
    }
   ],
   "source": [
    "# Use indexing to print \"The subjects involved in this grading system is English and Math.\" using \"subjects\" below.\n",
    "# (2 marks)\n",
    "#english and math will be used ferther in the code\n",
    "subjects = (\"English\", \"Math\")\n",
    "print(f\"The subjects involved in this grading system is {subjects[0]} and {subjects[1]}.\")"
   ]
  },
  {
   "cell_type": "markdown",
   "id": "b45a5575-8e77-4bba-8311-69f997affc35",
   "metadata": {
    "id": "b45a5575-8e77-4bba-8311-69f997affc35"
   },
   "source": [
    "## Part 2: Using Pandas for Data Management and Analytics\n",
    "### (20 marks)"
   ]
  },
  {
   "cell_type": "code",
   "execution_count": 38,
   "id": "6dbaa42e-22e3-4aa6-9bd3-dd9ede274c17",
   "metadata": {
    "id": "6dbaa42e-22e3-4aa6-9bd3-dd9ede274c17"
   },
   "outputs": [],
   "source": [
    "# In the space below, please import the Pandas library\n",
    "#pandas is built in free librzry and function in python\n",
    "# (1 mark)\n",
    "import pandas as pd"
   ]
  },
  {
   "cell_type": "code",
   "execution_count": 39,
   "id": "cce8e74f-bba1-4bf4-baaf-13e23cdf4afc",
   "metadata": {
    "id": "cce8e74f-bba1-4bf4-baaf-13e23cdf4afc"
   },
   "outputs": [],
   "source": [
    "# Load the student grade CSV files into DataFrames using the defined variables\n",
    "#studentGrades_English.csv and astudentGrades_Math.csv are files given in the assignment1\n",
    "# (2 marks)\n",
    "df_english = pd.read_csv('studentGrades_English.csv')\n",
    "df_math = pd.read_csv('studentGrades_Math.csv')"
   ]
  },
  {
   "cell_type": "code",
   "execution_count": 40,
   "id": "8fb240f4-6358-4f61-ab12-f0134c0144a8",
   "metadata": {
    "id": "8fb240f4-6358-4f61-ab12-f0134c0144a8"
   },
   "outputs": [],
   "source": [
    "# Merging the DataFrames on 'studentID'\n",
    "df_studentGrades = pd.merge(df_english, df_math, on='studentID', suffixes=('_English', '_Math'))"
   ]
  },
  {
   "cell_type": "code",
   "execution_count": 41,
   "id": "a9e571ef-d61b-4594-a181-503dca3fe49b",
   "metadata": {
    "id": "a9e571ef-d61b-4594-a181-503dca3fe49b"
   },
   "outputs": [],
   "source": [
    "# Take a look at the data contained in the csv files. Why is studentID chosen as the key?\n",
    "# (1 mark)\n",
    "# studentID is chosen as the key because it's a unique identifier for each student across different subjects."
   ]
  },
  {
   "cell_type": "code",
   "execution_count": 42,
   "id": "e23aaa90-fb4c-43f9-a3fc-1ae850bf65ab",
   "metadata": {
    "colab": {
     "base_uri": "https://localhost:8080/"
    },
    "executionInfo": {
     "elapsed": 495,
     "status": "ok",
     "timestamp": 1727414115005,
     "user": {
      "displayName": "Hossam Mohamed",
      "userId": "18025882356236507753"
     },
     "user_tz": 360
    },
    "id": "e23aaa90-fb4c-43f9-a3fc-1ae850bf65ab",
    "outputId": "b4ac0f58-7020-45e9-a4fe-f569080fafd4"
   },
   "outputs": [
    {
     "name": "stdout",
     "output_type": "stream",
     "text": [
      "  firstName_English lastName_English  studentID  grade_English firstName_Math  \\\n",
      "0              Emma            Smith      10959             95           Emma   \n",
      "1            Sophia         Robinson      75175             88         Sophia   \n",
      "2              Emma           Taylor      42257             87           Emma   \n",
      "3             David         Robinson      55148             86          David   \n",
      "4           Stephen            Curry      30303             90        Stephen   \n",
      "\n",
      "  lastName_Math  grade_Math   GPA  \n",
      "0         Smith          90  92.5  \n",
      "1      Robinson          95  91.5  \n",
      "2        Taylor          85  86.0  \n",
      "3      Robinson          87  86.5  \n",
      "4         Curry          88  89.0  \n"
     ]
    }
   ],
   "source": [
    "# Let's calculate the average GPA across the two classes for each student\n",
    "df_studentGrades['GPA'] = df_studentGrades[['grade_English', 'grade_Math']].mean(axis=1)\n",
    "\n",
    "# Now let's check the data! In the space below, please use the .head method to display the dataframe.\n",
    "# (1 mark)\n",
    "print(df_studentGrades.head())"
   ]
  },
  {
   "cell_type": "code",
   "execution_count": 43,
   "id": "9f28f907-7e7d-4be4-87b8-db03fef69dfa",
   "metadata": {
    "id": "9f28f907-7e7d-4be4-87b8-db03fef69dfa"
   },
   "outputs": [],
   "source": [
    "# Do you notice a problem? The rows for first name and last name have been duplicated!\n",
    "# .drop(columns=['<column_name1>','<column_name2>'] is a Pandas method that can be used to drop columns.\n",
    "# In the space below, drop the first name and last name associated with the math .csv file.\n",
    "# (2 mark)\n",
    "df_studentGrades = df_studentGrades.drop(columns=['firstName_Math', 'lastName_Math'])"
   ]
  },
  {
   "cell_type": "code",
   "execution_count": 44,
   "id": "b58186b4-b60e-455a-990e-b24169964f98",
   "metadata": {
    "colab": {
     "base_uri": "https://localhost:8080/"
    },
    "executionInfo": {
     "elapsed": 296,
     "status": "ok",
     "timestamp": 1727414123128,
     "user": {
      "displayName": "Hossam Mohamed",
      "userId": "18025882356236507753"
     },
     "user_tz": 360
    },
    "id": "b58186b4-b60e-455a-990e-b24169964f98",
    "outputId": "877af03a-cebb-4069-91f9-b5d589161c82"
   },
   "outputs": [
    {
     "name": "stdout",
     "output_type": "stream",
     "text": [
      "  firstName_English lastName_English  studentID  grade_English  grade_Math  \\\n",
      "0              Emma            Smith      10959             95          90   \n",
      "1            Sophia         Robinson      75175             88          95   \n",
      "2              Emma           Taylor      42257             87          85   \n",
      "3             David         Robinson      55148             86          87   \n",
      "4           Stephen            Curry      30303             90          88   \n",
      "\n",
      "    GPA  \n",
      "0  92.5  \n",
      "1  91.5  \n",
      "2  86.0  \n",
      "3  86.5  \n",
      "4  89.0  \n"
     ]
    }
   ],
   "source": [
    "# Let's display the data again. Use an appropriate method (hint: already used before)\n",
    "# (1 mark)\n",
    "print(df_studentGrades.head())"
   ]
  },
  {
   "cell_type": "code",
   "execution_count": 45,
   "id": "f0476460-6156-49ee-bc84-0878207e2dfa",
   "metadata": {
    "id": "f0476460-6156-49ee-bc84-0878207e2dfa"
   },
   "outputs": [],
   "source": [
    "# Let's also rename the first and last names appropriately.\n",
    "# Complete the code in the space below by replacing \"<>\" with the proper column name\n",
    "# (1 mark)\n",
    "\n",
    "df_studentGrades = df_studentGrades.rename(columns={\n",
    "    'firstName_English': 'firstName',\n",
    "    'lastName_English': 'lastName',\n",
    "    'grade_English': 'englishGrade',\n",
    "    'grade_Math': 'mathGrade'\n",
    "})"
   ]
  },
  {
   "cell_type": "code",
   "execution_count": 46,
   "id": "5c2b26e6-3c03-4950-b56d-5d00cf9361c4",
   "metadata": {
    "colab": {
     "base_uri": "https://localhost:8080/"
    },
    "executionInfo": {
     "elapsed": 334,
     "status": "ok",
     "timestamp": 1727414127951,
     "user": {
      "displayName": "Hossam Mohamed",
      "userId": "18025882356236507753"
     },
     "user_tz": 360
    },
    "id": "5c2b26e6-3c03-4950-b56d-5d00cf9361c4",
    "outputId": "e42feb4f-d79b-46aa-9982-59c336f18feb"
   },
   "outputs": [
    {
     "name": "stdout",
     "output_type": "stream",
     "text": [
      "          studentID  englishGrade  mathGrade       GPA\n",
      "count     14.000000     14.000000  14.000000  14.00000\n",
      "mean   54086.714286     86.928571  88.571429  87.75000\n",
      "std    24610.266586      6.145221   5.918865   3.63609\n",
      "min    10959.000000     76.000000  79.000000  82.00000\n",
      "25%    33291.500000     82.500000  85.250000  84.50000\n",
      "50%    58087.000000     87.500000  87.500000  89.00000\n",
      "75%    72214.250000     90.750000  91.500000  90.50000\n",
      "max    90449.000000     98.000000  99.000000  92.50000\n"
     ]
    }
   ],
   "source": [
    "# Now let's find out some statistics about our student grades!\n",
    "# Please use an appropriate Pandas method in the space below to display statistical values like\n",
    "# mean, standard deviation, min, max, and others.\n",
    "# (1 mark)\n",
    "print(df_studentGrades.describe())"
   ]
  },
  {
   "cell_type": "code",
   "execution_count": 47,
   "id": "22589631-5517-4b64-937e-61a53ade15fa",
   "metadata": {
    "id": "22589631-5517-4b64-937e-61a53ade15fa"
   },
   "outputs": [],
   "source": [
    "# Do you notice a problem?\n",
    "# Some statistics are not relevant. The average of studentIDs have no meaning in reality!\n",
    "# Let's typecast each column appropriately so as to only get meaningful statistics.\n",
    "# In the code below, replace '<>' by choosing between 'str' for string or 'float' for float\n",
    "# to properly typecast each column.\n",
    "# (3 marks)\n",
    "df_studentGrades['studentID'] = df_studentGrades['studentID'].astype(str)\n",
    "df_studentGrades['firstName'] = df_studentGrades['firstName'].astype(str)\n",
    "df_studentGrades['lastName'] = df_studentGrades['lastName'].astype(str)\n",
    "df_studentGrades['englishGrade'] = df_studentGrades['englishGrade'].astype(float)\n",
    "df_studentGrades['mathGrade'] = df_studentGrades['mathGrade'].astype(float)\n",
    "df_studentGrades['GPA'] = df_studentGrades['GPA'].astype(float)"
   ]
  },
  {
   "cell_type": "code",
   "execution_count": 48,
   "id": "6ab40afb-2787-45ab-a62b-e832fdee699d",
   "metadata": {
    "colab": {
     "base_uri": "https://localhost:8080/"
    },
    "executionInfo": {
     "elapsed": 296,
     "status": "ok",
     "timestamp": 1727414132085,
     "user": {
      "displayName": "Hossam Mohamed",
      "userId": "18025882356236507753"
     },
     "user_tz": 360
    },
    "id": "6ab40afb-2787-45ab-a62b-e832fdee699d",
    "outputId": "7c8ad688-85da-4367-bd0a-18cf9516aa9a"
   },
   "outputs": [
    {
     "name": "stdout",
     "output_type": "stream",
     "text": [
      "       englishGrade  mathGrade       GPA\n",
      "count     14.000000  14.000000  14.00000\n",
      "mean      86.928571  88.571429  87.75000\n",
      "std        6.145221   5.918865   3.63609\n",
      "min       76.000000  79.000000  82.00000\n",
      "25%       82.500000  85.250000  84.50000\n",
      "50%       87.500000  87.500000  89.00000\n",
      "75%       90.750000  91.500000  90.50000\n",
      "max       98.000000  99.000000  92.50000\n"
     ]
    }
   ],
   "source": [
    "# Now let's see our statistics!\n",
    "print(df_studentGrades.describe())"
   ]
  },
  {
   "cell_type": "code",
   "execution_count": 49,
   "id": "8wd6ggXcaszZ",
   "metadata": {
    "colab": {
     "base_uri": "https://localhost:8080/"
    },
    "executionInfo": {
     "elapsed": 616,
     "status": "ok",
     "timestamp": 1727414175733,
     "user": {
      "displayName": "Hossam Mohamed",
      "userId": "18025882356236507753"
     },
     "user_tz": 360
    },
    "id": "8wd6ggXcaszZ",
    "outputId": "d3c11447-b30c-437b-8181-2868eae66ca9"
   },
   "outputs": [
    {
     "name": "stdout",
     "output_type": "stream",
     "text": [
      "   firstName  lastName studentID  englishGrade  mathGrade   GPA\n",
      "0       Emma     Smith     10959          95.0       90.0  92.5\n",
      "12      Sara       Doe     47991          98.0       86.0  92.0\n",
      "1     Sophia  Robinson     75175          88.0       95.0  91.5\n",
      "9       Anne     Clark     90449          82.0       99.0  90.5\n",
      "10      Ryan    Thomas     62137          92.0       89.0  90.5\n",
      "4    Stephen     Curry     30303          90.0       88.0  89.0\n",
      "8      Sarah     Swift     61026          80.0       98.0  89.0\n",
      "11    Daniel     White     25477          91.0       87.0  89.0\n",
      "3      David  Robinson     55148          86.0       87.0  86.5\n",
      "2       Emma    Taylor     42257          87.0       85.0  86.0\n",
      "7      James     Jones     87707          76.0       92.0  84.0\n",
      "5   Isabella  Thompson     72824          88.0       79.0  83.5\n",
      "13   Matthew     White     25376          80.0       85.0  82.5\n",
      "6    Jasmine     Smith     70385          84.0       80.0  82.0\n"
     ]
    }
   ],
   "source": [
    "# Now sort the merged dataframe so that it is in descending order based on GPA, and print it\n",
    "# (1 mark)\n",
    "df_studentsGPASorted = df_studentGrades.sort_values(by='GPA', ascending=False)\n",
    "print(df_studentsGPASorted)"
   ]
  },
  {
   "cell_type": "code",
   "execution_count": 50,
   "id": "Y7Kjr1Jqbv_R",
   "metadata": {
    "id": "Y7Kjr1Jqbv_R"
   },
   "outputs": [],
   "source": [
    "# If we wanted to access the student with the highest gpa based on df_studentsGPASorted,\n",
    "# does .iloc or .loc make more sense and why?\n",
    "# (2 marks)\n",
    "\n",
    "#.loc would make more sense for accessing the student with the highest GPA because it allows us to access rows by label.\n",
    "# However, in this case, we used .iloc[0] because after sorting, the student with the highest GPA is at index 0.\n"
   ]
  },
  {
   "cell_type": "code",
   "execution_count": 51,
   "id": "6pQN2HYDeMrm",
   "metadata": {
    "id": "6pQN2HYDeMrm"
   },
   "outputs": [],
   "source": [
    "# Now using the method you specified, assign the variable below to the row containing the student with the highest GPA\n",
    "# (1 mark)\n",
    "top_student = df_studentsGPASorted.iloc[0]"
   ]
  },
  {
   "cell_type": "code",
   "execution_count": 52,
   "id": "C-oIXOOwdpx2",
   "metadata": {
    "colab": {
     "base_uri": "https://localhost:8080/"
    },
    "executionInfo": {
     "elapsed": 275,
     "status": "ok",
     "timestamp": 1727414187329,
     "user": {
      "displayName": "Hossam Mohamed",
      "userId": "18025882356236507753"
     },
     "user_tz": 360
    },
    "id": "C-oIXOOwdpx2",
    "outputId": "da36163b-8023-4677-fe06-7048b6489250"
   },
   "outputs": [
    {
     "name": "stdout",
     "output_type": "stream",
     "text": [
      "The student with the highest GPA is Emma Smith with a GPA of 92.5\n"
     ]
    }
   ],
   "source": [
    "# Now print the student first name and last name with the highest GPA in this format:\n",
    "# \"The student with the highest GPA is <firstName> <lastName> with a GPA of <GPA>\"\n",
    "# (1 mark)\n",
    "print(f\"The student with the highest GPA is {top_student['firstName']} {top_student['lastName']} with a GPA of {top_student['GPA']}\")"
   ]
  },
  {
   "cell_type": "code",
   "execution_count": 53,
   "id": "4-U4nZbRee4x",
   "metadata": {
    "colab": {
     "base_uri": "https://localhost:8080/"
    },
    "executionInfo": {
     "elapsed": 287,
     "status": "ok",
     "timestamp": 1727414189212,
     "user": {
      "displayName": "Hossam Mohamed",
      "userId": "18025882356236507753"
     },
     "user_tz": 360
    },
    "id": "4-U4nZbRee4x",
    "outputId": "a33e9d5f-b409-4284-87e5-8cf80f43484e"
   },
   "outputs": [
    {
     "name": "stdout",
     "output_type": "stream",
     "text": [
      "  firstName  lastName studentID  englishGrade  mathGrade   GPA\n",
      "1    Sophia  Robinson     75175          88.0       95.0  91.5\n",
      "9      Anne     Clark     90449          82.0       99.0  90.5\n",
      "8     Sarah     Swift     61026          80.0       98.0  89.0\n",
      "7     James     Jones     87707          76.0       92.0  84.0\n"
     ]
    }
   ],
   "source": [
    "# We can use logical expressions to filter and print data. For example, let's print the students with math grades higher than 90:\n",
    "df_mathGrade_over90 = df_studentsGPASorted[df_studentsGPASorted['mathGrade'] > 90]\n",
    "print(df_mathGrade_over90)"
   ]
  },
  {
   "cell_type": "code",
   "execution_count": 54,
   "id": "lTp6vfG2fVQM",
   "metadata": {
    "colab": {
     "base_uri": "https://localhost:8080/"
    },
    "executionInfo": {
     "elapsed": 289,
     "status": "ok",
     "timestamp": 1727414191197,
     "user": {
      "displayName": "Hossam Mohamed",
      "userId": "18025882356236507753"
     },
     "user_tz": 360
    },
    "id": "lTp6vfG2fVQM",
    "outputId": "663fe046-e2fc-4b95-8af3-5057162dcd80"
   },
   "outputs": [
    {
     "name": "stdout",
     "output_type": "stream",
     "text": [
      "   firstName  lastName studentID  englishGrade  mathGrade   GPA\n",
      "7      James     Jones     87707          76.0       92.0  84.0\n",
      "5   Isabella  Thompson     72824          88.0       79.0  83.5\n",
      "13   Matthew     White     25376          80.0       85.0  82.5\n",
      "6    Jasmine     Smith     70385          84.0       80.0  82.0\n"
     ]
    }
   ],
   "source": [
    "# Now print the students whos GPA are lower than 85\n",
    "# (2 marks)\n",
    "df_gpa_under85 = df_studentsGPASorted[df_studentsGPASorted['GPA'] < 85]\n",
    "print(df_gpa_under85)"
   ]
  },
  {
   "cell_type": "markdown",
   "id": "7zMefl3LSqQs",
   "metadata": {
    "id": "7zMefl3LSqQs"
   },
   "source": [
    "## Part 3: More Data Analytics using Pandas\n",
    "### (20 marks)"
   ]
  },
  {
   "cell_type": "code",
   "execution_count": 55,
   "id": "F_W0PBCdSxg9",
   "metadata": {
    "colab": {
     "base_uri": "https://localhost:8080/"
    },
    "executionInfo": {
     "elapsed": 305,
     "status": "ok",
     "timestamp": 1727414196660,
     "user": {
      "displayName": "Hossam Mohamed",
      "userId": "18025882356236507753"
     },
     "user_tz": 360
    },
    "id": "F_W0PBCdSxg9",
    "outputId": "547ee147-c0ca-41ea-f349-7f76a0ad4282"
   },
   "outputs": [
    {
     "name": "stdout",
     "output_type": "stream",
     "text": [
      "0     95\n",
      "1     88\n",
      "2     87\n",
      "3     86\n",
      "4     90\n",
      "5     88\n",
      "6     84\n",
      "7     76\n",
      "8     80\n",
      "9     82\n",
      "10    92\n",
      "11    91\n",
      "12    98\n",
      "13    80\n",
      "Name: grade, dtype: int64\n"
     ]
    }
   ],
   "source": [
    "# Select the column 'grade' from the original English grade dataset and print it\n",
    "# (1 mark)\n",
    "print(df_english['grade'])"
   ]
  },
  {
   "cell_type": "code",
   "execution_count": 56,
   "id": "d_Mo59OuT0IV",
   "metadata": {
    "colab": {
     "base_uri": "https://localhost:8080/"
    },
    "executionInfo": {
     "elapsed": 283,
     "status": "ok",
     "timestamp": 1727414198776,
     "user": {
      "displayName": "Hossam Mohamed",
      "userId": "18025882356236507753"
     },
     "user_tz": 360
    },
    "id": "d_Mo59OuT0IV",
    "outputId": "a73b03b8-d1d9-40cc-e80e-3e315bf0a304"
   },
   "outputs": [
    {
     "name": "stdout",
     "output_type": "stream",
     "text": [
      "0     92.5\n",
      "1     91.5\n",
      "2     86.0\n",
      "3     86.5\n",
      "4     89.0\n",
      "5     83.5\n",
      "6     82.0\n",
      "7     84.0\n",
      "8     89.0\n",
      "9     90.5\n",
      "10    90.5\n",
      "11    89.0\n",
      "12    92.0\n",
      "13    82.5\n",
      "Name: GPA, dtype: float64\n"
     ]
    }
   ],
   "source": [
    "# Select the column 'GPA' from the df_studentGrades and print it\n",
    "# (1 mark)\n",
    "print(df_studentGrades['GPA'])"
   ]
  },
  {
   "cell_type": "code",
   "execution_count": 57,
   "id": "EdHYR2hYVbef",
   "metadata": {
    "id": "EdHYR2hYVbef"
   },
   "outputs": [],
   "source": [
    "# What is the data type of grade from the English grade dataset?\n",
    "# (0.5 mark)\n",
    "# The data type of 'grade' from the English dataset is int64.\n",
    "\n",
    "# What is the data type of GPA from the merged dataset?\n",
    "# (0.5 mark)\n",
    "# The 'GPA' from the merged dataset is float64.\n",
    "\n",
    "# Is it different? Why?\n",
    "# (1 mark)\n",
    "# They are different because GPA is calculated as an average of two grades, which could result in decimal values."
   ]
  },
  {
   "cell_type": "code",
   "execution_count": 58,
   "id": "chmwegDeV6Dr",
   "metadata": {
    "colab": {
     "base_uri": "https://localhost:8080/",
     "height": 206
    },
    "executionInfo": {
     "elapsed": 300,
     "status": "ok",
     "timestamp": 1727414201868,
     "user": {
      "displayName": "Hossam Mohamed",
      "userId": "18025882356236507753"
     },
     "user_tz": 360
    },
    "id": "chmwegDeV6Dr",
    "outputId": "1c8743a5-e207-47a6-9d46-811041f051c3"
   },
   "outputs": [
    {
     "data": {
      "text/html": [
       "<div>\n",
       "<style scoped>\n",
       "    .dataframe tbody tr th:only-of-type {\n",
       "        vertical-align: middle;\n",
       "    }\n",
       "\n",
       "    .dataframe tbody tr th {\n",
       "        vertical-align: top;\n",
       "    }\n",
       "\n",
       "    .dataframe thead th {\n",
       "        text-align: right;\n",
       "    }\n",
       "</style>\n",
       "<table border=\"1\" class=\"dataframe\">\n",
       "  <thead>\n",
       "    <tr style=\"text-align: right;\">\n",
       "      <th></th>\n",
       "      <th>firstName</th>\n",
       "      <th>lastName</th>\n",
       "      <th>studentID</th>\n",
       "      <th>homeRoom</th>\n",
       "    </tr>\n",
       "  </thead>\n",
       "  <tbody>\n",
       "    <tr>\n",
       "      <th>0</th>\n",
       "      <td>Emma</td>\n",
       "      <td>Smith</td>\n",
       "      <td>10959</td>\n",
       "      <td>313</td>\n",
       "    </tr>\n",
       "    <tr>\n",
       "      <th>1</th>\n",
       "      <td>Sophia</td>\n",
       "      <td>Robinson</td>\n",
       "      <td>75175</td>\n",
       "      <td>311</td>\n",
       "    </tr>\n",
       "    <tr>\n",
       "      <th>2</th>\n",
       "      <td>Emma</td>\n",
       "      <td>Taylor</td>\n",
       "      <td>42257</td>\n",
       "      <td>311</td>\n",
       "    </tr>\n",
       "    <tr>\n",
       "      <th>3</th>\n",
       "      <td>David</td>\n",
       "      <td>Robinson</td>\n",
       "      <td>55148</td>\n",
       "      <td>313</td>\n",
       "    </tr>\n",
       "    <tr>\n",
       "      <th>4</th>\n",
       "      <td>Stephen</td>\n",
       "      <td>Curry</td>\n",
       "      <td>30303</td>\n",
       "      <td>313</td>\n",
       "    </tr>\n",
       "  </tbody>\n",
       "</table>\n",
       "</div>"
      ],
      "text/plain": [
       "  firstName  lastName  studentID  homeRoom\n",
       "0      Emma     Smith      10959       313\n",
       "1    Sophia  Robinson      75175       311\n",
       "2      Emma    Taylor      42257       311\n",
       "3     David  Robinson      55148       313\n",
       "4   Stephen     Curry      30303       313"
      ]
     },
     "execution_count": 58,
     "metadata": {},
     "output_type": "execute_result"
    }
   ],
   "source": [
    "# Load the student homeroom CSV file into a DataFrame using the following variable name\n",
    "# (1 mark)\n",
    "df_homeroom = pd.read_csv('studentHomerooms.csv')\n",
    "df_homeroom.head()"
   ]
  },
  {
   "cell_type": "code",
   "execution_count": 59,
   "id": "7ISGewvrXI7u",
   "metadata": {
    "colab": {
     "base_uri": "https://localhost:8080/"
    },
    "executionInfo": {
     "elapsed": 280,
     "status": "ok",
     "timestamp": 1727414204492,
     "user": {
      "displayName": "Hossam Mohamed",
      "userId": "18025882356236507753"
     },
     "user_tz": 360
    },
    "id": "7ISGewvrXI7u",
    "outputId": "14386ccc-6d9f-41ad-ca44-800f22192baa"
   },
   "outputs": [
    {
     "name": "stdout",
     "output_type": "stream",
     "text": [
      "  firstName  lastName studentID  englishGrade  mathGrade   GPA  homeRoom\n",
      "0      Emma     Smith     10959          95.0       90.0  92.5       313\n",
      "1    Sophia  Robinson     75175          88.0       95.0  91.5       311\n",
      "2      Emma    Taylor     42257          87.0       85.0  86.0       311\n",
      "3     David  Robinson     55148          86.0       87.0  86.5       313\n",
      "4   Stephen     Curry     30303          90.0       88.0  89.0       313\n"
     ]
    }
   ],
   "source": [
    "# Merge the studentHomerooms with the merged dataset. Make sure that the key you are joining on are the same typecast for both datasets.\n",
    "# Also ensure that there are no redundant columns, and finally display the first few rows.\n",
    "# Hint: try joining on more than one column to avoid having to drop redundant columns, ie. on=['studentID', '<ColumnA>', '<ColumnB>'] ...\n",
    "# (5 marks)\n",
    "df_studentGrades['studentID'] = df_studentGrades['studentID'].astype(str)\n",
    "df_homeroom['studentID'] = df_homeroom['studentID'].astype(str)\n",
    "df_studentInfo = pd.merge(df_studentGrades, df_homeroom, on=['studentID', 'firstName', 'lastName'])\n",
    "print(df_studentInfo.head())"
   ]
  },
  {
   "cell_type": "code",
   "execution_count": 60,
   "id": "aZIl5LCWZ2cL",
   "metadata": {
    "colab": {
     "base_uri": "https://localhost:8080/"
    },
    "executionInfo": {
     "elapsed": 292,
     "status": "ok",
     "timestamp": 1727414206972,
     "user": {
      "displayName": "Hossam Mohamed",
      "userId": "18025882356236507753"
     },
     "user_tz": 360
    },
    "id": "aZIl5LCWZ2cL",
    "outputId": "9eddfedf-101f-44f3-d5f7-9a44b9d53662"
   },
   "outputs": [
    {
     "name": "stdout",
     "output_type": "stream",
     "text": [
      "homeRoom\n",
      "311    88.785714\n",
      "313    86.714286\n",
      "Name: GPA, dtype: float64\n"
     ]
    }
   ],
   "source": [
    "# The code below calculates the mean of each homeroom class.\n",
    "df_grouped = df_studentInfo.groupby('homeRoom')['GPA'].mean()\n",
    "print(df_grouped)\n",
    "# Which homeroom has a higher GPA?\n",
    "# (1 mark)\n",
    "# The homeRoom 311"
   ]
  },
  {
   "cell_type": "code",
   "execution_count": 61,
   "id": "I1EtLRpVkCJt",
   "metadata": {
    "colab": {
     "base_uri": "https://localhost:8080/"
    },
    "executionInfo": {
     "elapsed": 277,
     "status": "ok",
     "timestamp": 1727414209841,
     "user": {
      "displayName": "Hossam Mohamed",
      "userId": "18025882356236507753"
     },
     "user_tz": 360
    },
    "id": "I1EtLRpVkCJt",
    "outputId": "119e2e63-971b-48f3-9876-873b4464e88a"
   },
   "outputs": [
    {
     "name": "stdout",
     "output_type": "stream",
     "text": [
      "   firstName  lastName studentID  englishGrade  mathGrade   GPA  homeRoom\n",
      "0       Emma     Smith     10959          95.0       90.0  92.5       313\n",
      "10      Ryan    Thomas     62137          92.0       89.0  90.5       313\n",
      "4    Stephen     Curry     30303          90.0       88.0  89.0       313\n",
      "3      David  Robinson     55148          86.0       87.0  86.5       313\n",
      "7      James     Jones     87707          76.0       92.0  84.0       313\n",
      "13   Matthew     White     25376          80.0       85.0  82.5       313\n",
      "6    Jasmine     Smith     70385          84.0       80.0  82.0       313\n",
      "12      Sara       Doe     47991          98.0       86.0  92.0       311\n",
      "1     Sophia  Robinson     75175          88.0       95.0  91.5       311\n",
      "9       Anne     Clark     90449          82.0       99.0  90.5       311\n",
      "8      Sarah     Swift     61026          80.0       98.0  89.0       311\n",
      "11    Daniel     White     25477          91.0       87.0  89.0       311\n",
      "2       Emma    Taylor     42257          87.0       85.0  86.0       311\n",
      "5   Isabella  Thompson     72824          88.0       79.0  83.5       311\n"
     ]
    }
   ],
   "source": [
    "# Now let's work with multiple sorts. The .sort_values() method can sort by multiple columns, meaning you can specify a primary column and a secondary column for sorting.\n",
    "# For example, by=['ColumnA', 'ColumnB'] will first sort by ColumnA and then by ColumnB.\n",
    "# Create and print a DataFrame, df_studentsGPASorted_homeroom, which is sorted by homeRoom and then by GPA, both in descending order.\n",
    "# (3 mark)\n",
    "df_studentsGPASorted_homeroom = df_studentInfo.sort_values(by=['homeRoom', 'GPA'], ascending=[0, 0])\n",
    "print(df_studentsGPASorted_homeroom)\n"
   ]
  },
  {
   "cell_type": "code",
   "execution_count": 62,
   "id": "7XWCjnSCox1a",
   "metadata": {
    "colab": {
     "base_uri": "https://localhost:8080/"
    },
    "executionInfo": {
     "elapsed": 319,
     "status": "ok",
     "timestamp": 1727414212566,
     "user": {
      "displayName": "Hossam Mohamed",
      "userId": "18025882356236507753"
     },
     "user_tz": 360
    },
    "id": "7XWCjnSCox1a",
    "outputId": "be902091-26be-4d3c-80b2-3dce6d2a49aa"
   },
   "outputs": [
    {
     "name": "stdout",
     "output_type": "stream",
     "text": [
      "         firstName  lastName studentID  englishGrade  mathGrade   GPA  \\\n",
      "newIndex                                                                \n",
      "313-1         Emma     Smith     10959          95.0       90.0  92.5   \n",
      "313-2         Ryan    Thomas     62137          92.0       89.0  90.5   \n",
      "313-3      Stephen     Curry     30303          90.0       88.0  89.0   \n",
      "313-4        David  Robinson     55148          86.0       87.0  86.5   \n",
      "313-5        James     Jones     87707          76.0       92.0  84.0   \n",
      "313-6      Matthew     White     25376          80.0       85.0  82.5   \n",
      "313-7      Jasmine     Smith     70385          84.0       80.0  82.0   \n",
      "311-1         Sara       Doe     47991          98.0       86.0  92.0   \n",
      "311-2       Sophia  Robinson     75175          88.0       95.0  91.5   \n",
      "311-3         Anne     Clark     90449          82.0       99.0  90.5   \n",
      "311-4        Sarah     Swift     61026          80.0       98.0  89.0   \n",
      "311-5       Daniel     White     25477          91.0       87.0  89.0   \n",
      "311-6         Emma    Taylor     42257          87.0       85.0  86.0   \n",
      "311-7     Isabella  Thompson     72824          88.0       79.0  83.5   \n",
      "\n",
      "          homeRoom  \n",
      "newIndex            \n",
      "313-1          313  \n",
      "313-2          313  \n",
      "313-3          313  \n",
      "313-4          313  \n",
      "313-5          313  \n",
      "313-6          313  \n",
      "313-7          313  \n",
      "311-1          311  \n",
      "311-2          311  \n",
      "311-3          311  \n",
      "311-4          311  \n",
      "311-5          311  \n",
      "311-6          311  \n",
      "311-7          311  \n"
     ]
    }
   ],
   "source": [
    "# Do you notice a problem with the indices? They are basically meaningless now that we have sorted by homeroom and GPA.\n",
    "\n",
    "# The code below changes the index of the dataframe so that it is more intuitive.\n",
    "df_studentsGPASorted_homeroom['studentRank'] = df_studentsGPASorted_homeroom.groupby('homeRoom').cumcount() + 1\n",
    "df_studentsGPASorted_homeroom['newIndex'] = df_studentsGPASorted_homeroom['homeRoom'].astype(str) + '-' + df_studentsGPASorted_homeroom['studentRank'].astype(str)\n",
    "df_studentsGPASorted_homeroom = df_studentsGPASorted_homeroom.set_index('newIndex')\n",
    "df_studentsGPASorted_homeroom = df_studentsGPASorted_homeroom.drop(columns=['studentRank'])\n",
    "\n",
    "print(df_studentsGPASorted_homeroom)"
   ]
  },
  {
   "cell_type": "code",
   "execution_count": 63,
   "id": "CUwJVCXfpsdJ",
   "metadata": {
    "id": "CUwJVCXfpsdJ"
   },
   "outputs": [],
   "source": [
    "# Describe what each coding line in the cell above is doing\n",
    "# (4 marks)\n",
    "# The code changes the index of the dataframe:\n",
    "\n",
    "# It creates a 'studentRank' column within each homeroom.\n",
    "# It creates a 'newIndex' by combining homeRoom and studentRank.\n",
    "# It sets this 'newIndex' as the new index of the dataframe.\n",
    "# It drops the 'studentRank' column as it's no longer needed."
   ]
  },
  {
   "cell_type": "code",
   "execution_count": 64,
   "id": "t1iojeTVqLWW",
   "metadata": {
    "colab": {
     "base_uri": "https://localhost:8080/",
     "height": 143
    },
    "executionInfo": {
     "elapsed": 284,
     "status": "ok",
     "timestamp": 1727414218207,
     "user": {
      "displayName": "Hossam Mohamed",
      "userId": "18025882356236507753"
     },
     "user_tz": 360
    },
    "id": "t1iojeTVqLWW",
    "outputId": "d5590258-28f9-432f-81d4-55bf10c42185"
   },
   "outputs": [
    {
     "data": {
      "text/html": [
       "<div>\n",
       "<style scoped>\n",
       "    .dataframe tbody tr th:only-of-type {\n",
       "        vertical-align: middle;\n",
       "    }\n",
       "\n",
       "    .dataframe tbody tr th {\n",
       "        vertical-align: top;\n",
       "    }\n",
       "\n",
       "    .dataframe thead th {\n",
       "        text-align: right;\n",
       "    }\n",
       "</style>\n",
       "<table border=\"1\" class=\"dataframe\">\n",
       "  <thead>\n",
       "    <tr style=\"text-align: right;\">\n",
       "      <th></th>\n",
       "      <th>firstName</th>\n",
       "      <th>lastName</th>\n",
       "      <th>studentID</th>\n",
       "      <th>englishGrade</th>\n",
       "      <th>mathGrade</th>\n",
       "      <th>GPA</th>\n",
       "      <th>homeRoom</th>\n",
       "    </tr>\n",
       "    <tr>\n",
       "      <th>newIndex</th>\n",
       "      <th></th>\n",
       "      <th></th>\n",
       "      <th></th>\n",
       "      <th></th>\n",
       "      <th></th>\n",
       "      <th></th>\n",
       "      <th></th>\n",
       "    </tr>\n",
       "  </thead>\n",
       "  <tbody>\n",
       "    <tr>\n",
       "      <th>311-1</th>\n",
       "      <td>Sara</td>\n",
       "      <td>Doe</td>\n",
       "      <td>47991</td>\n",
       "      <td>98.0</td>\n",
       "      <td>86.0</td>\n",
       "      <td>92.0</td>\n",
       "      <td>311</td>\n",
       "    </tr>\n",
       "    <tr>\n",
       "      <th>313-1</th>\n",
       "      <td>Emma</td>\n",
       "      <td>Smith</td>\n",
       "      <td>10959</td>\n",
       "      <td>95.0</td>\n",
       "      <td>90.0</td>\n",
       "      <td>92.5</td>\n",
       "      <td>313</td>\n",
       "    </tr>\n",
       "  </tbody>\n",
       "</table>\n",
       "</div>"
      ],
      "text/plain": [
       "         firstName lastName studentID  englishGrade  mathGrade   GPA  homeRoom\n",
       "newIndex                                                                      \n",
       "311-1         Sara      Doe     47991          98.0       86.0  92.0       311\n",
       "313-1         Emma    Smith     10959          95.0       90.0  92.5       313"
      ]
     },
     "execution_count": 64,
     "metadata": {},
     "output_type": "execute_result"
    }
   ],
   "source": [
    "# Given df_studentsGPASorted_homeroom, please find and print the students with the highest GPA in each homeroom using the .loc method.\n",
    "# (2 marks)\n",
    "\n",
    "# The students with the highest GPA in each homeroom are found using groupby() and first().\n",
    "df_studentsGPASorted_homeroom.loc[df_studentsGPASorted_homeroom.groupby('homeRoom')['GPA'].idxmax()]"
   ]
  },
  {
   "cell_type": "markdown",
   "id": "6360bc9f-ac32-4d0d-986d-f2cb21d422a9",
   "metadata": {
    "id": "6360bc9f-ac32-4d0d-986d-f2cb21d422a9"
   },
   "source": [
    "## Part 4: Using Matplotlib for Data Analytics\n",
    "### (14 marks)"
   ]
  },
  {
   "cell_type": "code",
   "execution_count": 65,
   "id": "44538b76-33d8-466e-8cc1-0936c22b541c",
   "metadata": {
    "id": "44538b76-33d8-466e-8cc1-0936c22b541c"
   },
   "outputs": [],
   "source": [
    "# In the space below, please import the matplotlib library\n",
    "# (1 mark)\n",
    "import matplotlib.pyplot as plt"
   ]
  },
  {
   "cell_type": "code",
   "execution_count": 69,
   "id": "995a219d-fa27-4948-a51d-88aad7a24731",
   "metadata": {
    "colab": {
     "base_uri": "https://localhost:8080/",
     "height": 1000
    },
    "id": "995a219d-fa27-4948-a51d-88aad7a24731",
    "outputId": "a7b00417-ea80-4e30-c326-c711738df255"
   },
   "outputs": [
    {
     "data": {
      "image/png": "[encoded data removed]",
      "text/plain": [
       "<Figure size 1000x600 with 1 Axes>"
      ]
     },
     "metadata": {},
     "output_type": "display_data"
    },
    {
     "data": {
      "image/png": "[encoded data removed]",
      "text/plain": [
       "<Figure size 1000x600 with 1 Axes>"
      ]
     },
     "metadata": {},
     "output_type": "display_data"
    }
   ],
   "source": [
    "# Let's use matplotlib to display a histogram of the grades distribution\n",
    "# Histograms are useful for seeing the distribution of the students grades\n",
    "\n",
    "plt.figure(figsize=(10, 6))\n",
    "plt.hist(df_studentGrades['englishGrade'], bins=10, alpha=0.7, label='English Grades', color='blue')\n",
    "\n",
    "# Step 1: Use the line above as reference to create a histogram for the math grades\n",
    "# (1 mark)\n",
    "\n",
    "plt.figure(figsize=(10, 6))\n",
    "plt.hist(df_studentGrades['mathGrade'], bins=10, alpha=0.7, label='Math Grades', color='brown')\n",
    "\n",
    "\n",
    "# Step 2: Ensure that your plot is descriptive, so use labels (x and y axis), a title, and a legend.\n",
    "# Hint: Use the matplotlib .legend(loc='<location>') to add and place the legend.\n",
    "# You can use 'upper left', 'upper right', 'lower left', and 'lower right' to specify the location.\n",
    "# (4 marks)\n",
    "\n",
    "\n",
    "# Step 3: Use the .savefig('<image_title>'.png) to output an image file of the histogram.\n",
    "# Please be sure to use a descriptive title!\n",
    "# (1 mark)\n",
    "#\n",
    "\n",
    "plt.show()"
   ]
  },
  {
   "cell_type": "code",
   "execution_count": null,
   "id": "631d4d69-dd89-4a31-a857-0f4eb1230bbc",
   "metadata": {
    "id": "631d4d69-dd89-4a31-a857-0f4eb1230bbc"
   },
   "outputs": [],
   "source": [
    "# Let's also use matplotlib to display a scatter plot of English vs. Math grades\n",
    "# Scatter plots are useful for seeing the relationship between two variables\n",
    "plt.figure(figsize=(10, 6))\n",
    "\n",
    "# Step 1: Use .scatter(x_data, y_data) to create a scatter plot using the English grades on the x-axis, and Math grades on the y-axis\n",
    "# (2 mark)\n",
    "#\n",
    "\n",
    "# Step 1: Properly label the x and y axes as well as the title of your plot.\n",
    "# (3 marks)\n",
    "#\n",
    "plt.grid(True)\n",
    "\n",
    "# Step 2: Output an image file for the scatter plot with a descriptive file name\n",
    "# (1 mark)\n",
    "#\n",
    "\n",
    "plt.show()"
   ]
  },
  {
   "cell_type": "code",
   "execution_count": null,
   "id": "B69uvG5uioH0",
   "metadata": {
    "id": "B69uvG5uioH0"
   },
   "outputs": [],
   "source": [
    "# From the scatter plot, is there a relationship between the Math and English grades?\n",
    "# (1 mark)\n",
    "#"
   ]
  }
 ],
 "metadata": {
  "colab": {
   "provenance": []
  },
  "kernelspec": {
   "display_name": "Python 3 (ipykernel)",
   "language": "python",
   "name": "python3"
  },
  "language_info": {
   "codemirror_mode": {
    "name": "ipython",
    "version": 3
   },
   "file_extension": ".py",
   "mimetype": "text/x-python",
   "name": "python",
   "nbconvert_exporter": "python",
   "pygments_lexer": "ipython3",
   "version": "3.11.5"
  }
 },
 "nbformat": 4,
 "nbformat_minor": 5
}
